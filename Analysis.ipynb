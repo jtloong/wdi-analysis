{
 "cells": [
  {
   "cell_type": "markdown",
   "metadata": {},
   "source": [
    "# World Development Indicators\n",
    "\n",
    "Looking at world development indicators across all countries. Data came from Kaggle [here](https://www.kaggle.com/worldbank/world-development-indicators)\n",
    "\n",
    "## Data Rangling"
   ]
  },
  {
   "cell_type": "code",
   "execution_count": 1,
   "metadata": {
    "collapsed": true
   },
   "outputs": [],
   "source": [
    "import pandas as pd\n",
    "import numpy as np\n",
    "import matplotlib.pyplot as plt\n",
    "import seaborn as sns\n",
    "%matplotlib inline"
   ]
  },
  {
   "cell_type": "code",
   "execution_count": 35,
   "metadata": {
    "collapsed": true
   },
   "outputs": [],
   "source": [
    "data = pd.read_csv(\"./wdi-data/Indicators.csv\")\n",
    "area = pd.read_csv(\"./country-area/country-area.csv\", skiprows=4)"
   ]
  },
  {
   "cell_type": "code",
   "execution_count": 9,
   "metadata": {},
   "outputs": [
    {
     "data": {
      "text/html": [
       "<div>\n",
       "<style>\n",
       "    .dataframe thead tr:only-child th {\n",
       "        text-align: right;\n",
       "    }\n",
       "\n",
       "    .dataframe thead th {\n",
       "        text-align: left;\n",
       "    }\n",
       "\n",
       "    .dataframe tbody tr th {\n",
       "        vertical-align: top;\n",
       "    }\n",
       "</style>\n",
       "<table border=\"1\" class=\"dataframe\">\n",
       "  <thead>\n",
       "    <tr style=\"text-align: right;\">\n",
       "      <th></th>\n",
       "      <th>CountryName</th>\n",
       "      <th>CountryCode</th>\n",
       "      <th>IndicatorName</th>\n",
       "      <th>IndicatorCode</th>\n",
       "      <th>Year</th>\n",
       "      <th>Value</th>\n",
       "    </tr>\n",
       "  </thead>\n",
       "  <tbody>\n",
       "    <tr>\n",
       "      <th>0</th>\n",
       "      <td>Arab World</td>\n",
       "      <td>ARB</td>\n",
       "      <td>Adolescent fertility rate (births per 1,000 wo...</td>\n",
       "      <td>SP.ADO.TFRT</td>\n",
       "      <td>1960</td>\n",
       "      <td>1.335609e+02</td>\n",
       "    </tr>\n",
       "    <tr>\n",
       "      <th>1</th>\n",
       "      <td>Arab World</td>\n",
       "      <td>ARB</td>\n",
       "      <td>Age dependency ratio (% of working-age populat...</td>\n",
       "      <td>SP.POP.DPND</td>\n",
       "      <td>1960</td>\n",
       "      <td>8.779760e+01</td>\n",
       "    </tr>\n",
       "    <tr>\n",
       "      <th>2</th>\n",
       "      <td>Arab World</td>\n",
       "      <td>ARB</td>\n",
       "      <td>Age dependency ratio, old (% of working-age po...</td>\n",
       "      <td>SP.POP.DPND.OL</td>\n",
       "      <td>1960</td>\n",
       "      <td>6.634579e+00</td>\n",
       "    </tr>\n",
       "    <tr>\n",
       "      <th>3</th>\n",
       "      <td>Arab World</td>\n",
       "      <td>ARB</td>\n",
       "      <td>Age dependency ratio, young (% of working-age ...</td>\n",
       "      <td>SP.POP.DPND.YG</td>\n",
       "      <td>1960</td>\n",
       "      <td>8.102333e+01</td>\n",
       "    </tr>\n",
       "    <tr>\n",
       "      <th>4</th>\n",
       "      <td>Arab World</td>\n",
       "      <td>ARB</td>\n",
       "      <td>Arms exports (SIPRI trend indicator values)</td>\n",
       "      <td>MS.MIL.XPRT.KD</td>\n",
       "      <td>1960</td>\n",
       "      <td>3.000000e+06</td>\n",
       "    </tr>\n",
       "  </tbody>\n",
       "</table>\n",
       "</div>"
      ],
      "text/plain": [
       "  CountryName CountryCode                                      IndicatorName  \\\n",
       "0  Arab World         ARB  Adolescent fertility rate (births per 1,000 wo...   \n",
       "1  Arab World         ARB  Age dependency ratio (% of working-age populat...   \n",
       "2  Arab World         ARB  Age dependency ratio, old (% of working-age po...   \n",
       "3  Arab World         ARB  Age dependency ratio, young (% of working-age ...   \n",
       "4  Arab World         ARB        Arms exports (SIPRI trend indicator values)   \n",
       "\n",
       "    IndicatorCode  Year         Value  \n",
       "0     SP.ADO.TFRT  1960  1.335609e+02  \n",
       "1     SP.POP.DPND  1960  8.779760e+01  \n",
       "2  SP.POP.DPND.OL  1960  6.634579e+00  \n",
       "3  SP.POP.DPND.YG  1960  8.102333e+01  \n",
       "4  MS.MIL.XPRT.KD  1960  3.000000e+06  "
      ]
     },
     "execution_count": 9,
     "metadata": {},
     "output_type": "execute_result"
    }
   ],
   "source": [
    "data.head()"
   ]
  },
  {
   "cell_type": "code",
   "execution_count": 84,
   "metadata": {},
   "outputs": [
    {
     "data": {
      "text/plain": [
       "array(['Afghanistan', 'Albania', 'Algeria', 'American Samoa', 'Andorra',\n",
       "       'Angola', 'Antigua and Barbuda', 'Argentina', 'Armenia', 'Aruba',\n",
       "       'Australia', 'Austria', 'Azerbaijan', 'Bahamas, The', 'Bahrain',\n",
       "       'Bangladesh', 'Barbados', 'Belarus', 'Belgium', 'Belize', 'Benin',\n",
       "       'Bermuda', 'Bhutan', 'Bolivia', 'Bosnia and Herzegovina',\n",
       "       'Botswana', 'Brazil', 'Brunei Darussalam', 'Bulgaria'], dtype=object)"
      ]
     },
     "execution_count": 84,
     "metadata": {},
     "output_type": "execute_result"
    }
   ],
   "source": [
    "countryNames = data[\"CountryName\"].unique()\n",
    "indicators = data[\"IndicatorName\"].unique()\n",
    "countryNames = countryNames[32:]\n",
    "countryNames[1:30]"
   ]
  },
  {
   "cell_type": "code",
   "execution_count": 32,
   "metadata": {
    "collapsed": true
   },
   "outputs": [],
   "source": []
  },
  {
   "cell_type": "markdown",
   "metadata": {},
   "source": [
    "# Analyzing Government Indicators"
   ]
  },
  {
   "cell_type": "code",
   "execution_count": 88,
   "metadata": {},
   "outputs": [
    {
     "name": "stdout",
     "output_type": "stream",
     "text": [
      "['General government final consumption expenditure (% of GDP)', 'General government final consumption expenditure (constant 2005 US$)', 'General government final consumption expenditure (current US$)', 'General government final consumption expenditure (constant LCU)', 'General government final consumption expenditure (current LCU)', 'General government final consumption expenditure (annual % growth)', 'Expenditure on primary as % of government expenditure on education (%)', 'Expenditure on secondary as % of government expenditure on education (%)', 'Expenditure on tertiary as % of government expenditure on education (%)', 'Military expenditure (% of central government expenditure)', 'Central government debt, total (% of GDP)', 'Central government debt, total (current LCU)', 'Net ODA received (% of central government expense)', 'Health expenditure, public (% of government expenditure)', 'Expenditure on education as % of total government expenditure (%)', 'Claims on central government, etc. (% GDP)', 'Claims on central government (annual growth as % of broad money)', 'Time spent dealing with the requirements of government regulations (% of senior management time)', 'CPIA property rights and rule-based governance rating (1=low to 6=high)']\n"
     ]
    }
   ],
   "source": [
    "gov_indicators = [s for s in indicators if \"gov\" in s]\n",
    "print(gov_indicators)"
   ]
  },
  {
   "cell_type": "code",
   "execution_count": 74,
   "metadata": {
    "collapsed": true
   },
   "outputs": [],
   "source": [
    "gov_data = data[(data[\"CountryName\"].isin(countryNames)) & (data[\"IndicatorName\"].isin(gov_indicators)) & (data[\"Year\"] == 2014)]"
   ]
  },
  {
   "cell_type": "code",
   "execution_count": 75,
   "metadata": {},
   "outputs": [
    {
     "data": {
      "text/html": [
       "<div>\n",
       "<style>\n",
       "    .dataframe thead tr:only-child th {\n",
       "        text-align: right;\n",
       "    }\n",
       "\n",
       "    .dataframe thead th {\n",
       "        text-align: left;\n",
       "    }\n",
       "\n",
       "    .dataframe tbody tr th {\n",
       "        vertical-align: top;\n",
       "    }\n",
       "</style>\n",
       "<table border=\"1\" class=\"dataframe\">\n",
       "  <thead>\n",
       "    <tr style=\"text-align: right;\">\n",
       "      <th></th>\n",
       "      <th>CountryName</th>\n",
       "      <th>CountryCode</th>\n",
       "      <th>IndicatorName</th>\n",
       "      <th>IndicatorCode</th>\n",
       "      <th>Year</th>\n",
       "      <th>Value</th>\n",
       "    </tr>\n",
       "  </thead>\n",
       "  <tbody>\n",
       "    <tr>\n",
       "      <th>5546096</th>\n",
       "      <td>World</td>\n",
       "      <td>WLD</td>\n",
       "      <td>CPIA property rights and rule-based governance...</td>\n",
       "      <td>IQ.CPA.PROP.XQ</td>\n",
       "      <td>2014</td>\n",
       "      <td>2.861842</td>\n",
       "    </tr>\n",
       "    <tr>\n",
       "      <th>5546373</th>\n",
       "      <td>Afghanistan</td>\n",
       "      <td>AFG</td>\n",
       "      <td>Claims on central government (annual growth as...</td>\n",
       "      <td>FM.AST.CGOV.ZG.M3</td>\n",
       "      <td>2014</td>\n",
       "      <td>5.350731</td>\n",
       "    </tr>\n",
       "    <tr>\n",
       "      <th>5546374</th>\n",
       "      <td>Afghanistan</td>\n",
       "      <td>AFG</td>\n",
       "      <td>Claims on central government, etc. (% GDP)</td>\n",
       "      <td>FS.AST.CGOV.GD.ZS</td>\n",
       "      <td>2014</td>\n",
       "      <td>-6.176219</td>\n",
       "    </tr>\n",
       "    <tr>\n",
       "      <th>5546402</th>\n",
       "      <td>Afghanistan</td>\n",
       "      <td>AFG</td>\n",
       "      <td>CPIA property rights and rule-based governance...</td>\n",
       "      <td>IQ.CPA.PROP.XQ</td>\n",
       "      <td>2014</td>\n",
       "      <td>1.500000</td>\n",
       "    </tr>\n",
       "    <tr>\n",
       "      <th>5546452</th>\n",
       "      <td>Afghanistan</td>\n",
       "      <td>AFG</td>\n",
       "      <td>Expenditure on education as % of total governm...</td>\n",
       "      <td>SE.XPD.TOTL.GB.ZS</td>\n",
       "      <td>2014</td>\n",
       "      <td>18.068340</td>\n",
       "    </tr>\n",
       "  </tbody>\n",
       "</table>\n",
       "</div>"
      ],
      "text/plain": [
       "         CountryName CountryCode  \\\n",
       "5546096        World         WLD   \n",
       "5546373  Afghanistan         AFG   \n",
       "5546374  Afghanistan         AFG   \n",
       "5546402  Afghanistan         AFG   \n",
       "5546452  Afghanistan         AFG   \n",
       "\n",
       "                                             IndicatorName      IndicatorCode  \\\n",
       "5546096  CPIA property rights and rule-based governance...     IQ.CPA.PROP.XQ   \n",
       "5546373  Claims on central government (annual growth as...  FM.AST.CGOV.ZG.M3   \n",
       "5546374         Claims on central government, etc. (% GDP)  FS.AST.CGOV.GD.ZS   \n",
       "5546402  CPIA property rights and rule-based governance...     IQ.CPA.PROP.XQ   \n",
       "5546452  Expenditure on education as % of total governm...  SE.XPD.TOTL.GB.ZS   \n",
       "\n",
       "         Year      Value  \n",
       "5546096  2014   2.861842  \n",
       "5546373  2014   5.350731  \n",
       "5546374  2014  -6.176219  \n",
       "5546402  2014   1.500000  \n",
       "5546452  2014  18.068340  "
      ]
     },
     "execution_count": 75,
     "metadata": {},
     "output_type": "execute_result"
    }
   ],
   "source": [
    "gov_data.head()"
   ]
  },
  {
   "cell_type": "code",
   "execution_count": 172,
   "metadata": {
    "collapsed": true
   },
   "outputs": [],
   "source": [
    "area_2014 = area[[\"Country Name\", \"2014\"]]\n",
    "area_2014.columns = [\"CountryName\", \"Area in 2014\"]"
   ]
  },
  {
   "cell_type": "code",
   "execution_count": 186,
   "metadata": {},
   "outputs": [
    {
     "data": {
      "text/html": [
       "<div>\n",
       "<style>\n",
       "    .dataframe thead tr:only-child th {\n",
       "        text-align: right;\n",
       "    }\n",
       "\n",
       "    .dataframe thead th {\n",
       "        text-align: left;\n",
       "    }\n",
       "\n",
       "    .dataframe tbody tr th {\n",
       "        vertical-align: top;\n",
       "    }\n",
       "</style>\n",
       "<table border=\"1\" class=\"dataframe\">\n",
       "  <thead>\n",
       "    <tr style=\"text-align: right;\">\n",
       "      <th>IndicatorName</th>\n",
       "      <th>CPIA property rights and rule-based governance rating (1=low to 6=high)</th>\n",
       "      <th>Claims on central government (annual growth as % of broad money)</th>\n",
       "      <th>Claims on central government, etc. (% GDP)</th>\n",
       "      <th>Expenditure on education as % of total government expenditure (%)</th>\n",
       "      <th>Expenditure on primary as % of government expenditure on education (%)</th>\n",
       "      <th>Expenditure on secondary as % of government expenditure on education (%)</th>\n",
       "      <th>Expenditure on tertiary as % of government expenditure on education (%)</th>\n",
       "      <th>General government final consumption expenditure (% of GDP)</th>\n",
       "      <th>General government final consumption expenditure (annual % growth)</th>\n",
       "      <th>General government final consumption expenditure (constant 2005 US$)</th>\n",
       "      <th>General government final consumption expenditure (constant LCU)</th>\n",
       "      <th>General government final consumption expenditure (current LCU)</th>\n",
       "      <th>General government final consumption expenditure (current US$)</th>\n",
       "      <th>Time spent dealing with the requirements of government regulations (% of senior management time)</th>\n",
       "    </tr>\n",
       "    <tr>\n",
       "      <th>CountryName</th>\n",
       "      <th></th>\n",
       "      <th></th>\n",
       "      <th></th>\n",
       "      <th></th>\n",
       "      <th></th>\n",
       "      <th></th>\n",
       "      <th></th>\n",
       "      <th></th>\n",
       "      <th></th>\n",
       "      <th></th>\n",
       "      <th></th>\n",
       "      <th></th>\n",
       "      <th></th>\n",
       "      <th></th>\n",
       "    </tr>\n",
       "  </thead>\n",
       "  <tbody>\n",
       "    <tr>\n",
       "      <th>Afghanistan</th>\n",
       "      <td>1.5</td>\n",
       "      <td>5.350731</td>\n",
       "      <td>-6.176219</td>\n",
       "      <td>18.06834</td>\n",
       "      <td>NaN</td>\n",
       "      <td>NaN</td>\n",
       "      <td>NaN</td>\n",
       "      <td>12.765214</td>\n",
       "      <td>NaN</td>\n",
       "      <td>NaN</td>\n",
       "      <td>NaN</td>\n",
       "      <td>1.469042e+11</td>\n",
       "      <td>2.557921e+09</td>\n",
       "      <td>9.8</td>\n",
       "    </tr>\n",
       "    <tr>\n",
       "      <th>Albania</th>\n",
       "      <td>NaN</td>\n",
       "      <td>1.842892</td>\n",
       "      <td>27.701920</td>\n",
       "      <td>NaN</td>\n",
       "      <td>NaN</td>\n",
       "      <td>NaN</td>\n",
       "      <td>NaN</td>\n",
       "      <td>11.195688</td>\n",
       "      <td>8.731858</td>\n",
       "      <td>1.158635e+09</td>\n",
       "      <td>4.938514e+10</td>\n",
       "      <td>1.560164e+11</td>\n",
       "      <td>1.479120e+09</td>\n",
       "      <td>NaN</td>\n",
       "    </tr>\n",
       "    <tr>\n",
       "      <th>Algeria</th>\n",
       "      <td>NaN</td>\n",
       "      <td>11.846489</td>\n",
       "      <td>-20.358825</td>\n",
       "      <td>NaN</td>\n",
       "      <td>NaN</td>\n",
       "      <td>NaN</td>\n",
       "      <td>NaN</td>\n",
       "      <td>19.433061</td>\n",
       "      <td>1.100000</td>\n",
       "      <td>3.439873e+10</td>\n",
       "      <td>1.445653e+11</td>\n",
       "      <td>3.343479e+12</td>\n",
       "      <td>4.149318e+10</td>\n",
       "      <td>NaN</td>\n",
       "    </tr>\n",
       "    <tr>\n",
       "      <th>Angola</th>\n",
       "      <td>NaN</td>\n",
       "      <td>16.703770</td>\n",
       "      <td>NaN</td>\n",
       "      <td>NaN</td>\n",
       "      <td>NaN</td>\n",
       "      <td>NaN</td>\n",
       "      <td>NaN</td>\n",
       "      <td>NaN</td>\n",
       "      <td>NaN</td>\n",
       "      <td>NaN</td>\n",
       "      <td>NaN</td>\n",
       "      <td>NaN</td>\n",
       "      <td>NaN</td>\n",
       "      <td>NaN</td>\n",
       "    </tr>\n",
       "    <tr>\n",
       "      <th>Antigua and Barbuda</th>\n",
       "      <td>NaN</td>\n",
       "      <td>-0.265717</td>\n",
       "      <td>15.628621</td>\n",
       "      <td>NaN</td>\n",
       "      <td>NaN</td>\n",
       "      <td>NaN</td>\n",
       "      <td>NaN</td>\n",
       "      <td>17.110780</td>\n",
       "      <td>NaN</td>\n",
       "      <td>NaN</td>\n",
       "      <td>NaN</td>\n",
       "      <td>5.640800e+08</td>\n",
       "      <td>2.089185e+08</td>\n",
       "      <td>NaN</td>\n",
       "    </tr>\n",
       "  </tbody>\n",
       "</table>\n",
       "</div>"
      ],
      "text/plain": [
       "IndicatorName        CPIA property rights and rule-based governance rating (1=low to 6=high)  \\\n",
       "CountryName                                                                                    \n",
       "Afghanistan                                                        1.5                         \n",
       "Albania                                                            NaN                         \n",
       "Algeria                                                            NaN                         \n",
       "Angola                                                             NaN                         \n",
       "Antigua and Barbuda                                                NaN                         \n",
       "\n",
       "IndicatorName        Claims on central government (annual growth as % of broad money)  \\\n",
       "CountryName                                                                             \n",
       "Afghanistan                                                   5.350731                  \n",
       "Albania                                                       1.842892                  \n",
       "Algeria                                                      11.846489                  \n",
       "Angola                                                       16.703770                  \n",
       "Antigua and Barbuda                                          -0.265717                  \n",
       "\n",
       "IndicatorName        Claims on central government, etc. (% GDP)  \\\n",
       "CountryName                                                       \n",
       "Afghanistan                                           -6.176219   \n",
       "Albania                                               27.701920   \n",
       "Algeria                                              -20.358825   \n",
       "Angola                                                      NaN   \n",
       "Antigua and Barbuda                                   15.628621   \n",
       "\n",
       "IndicatorName        Expenditure on education as % of total government expenditure (%)  \\\n",
       "CountryName                                                                              \n",
       "Afghanistan                                                   18.06834                   \n",
       "Albania                                                            NaN                   \n",
       "Algeria                                                            NaN                   \n",
       "Angola                                                             NaN                   \n",
       "Antigua and Barbuda                                                NaN                   \n",
       "\n",
       "IndicatorName        Expenditure on primary as % of government expenditure on education (%)  \\\n",
       "CountryName                                                                                   \n",
       "Afghanistan                                                        NaN                        \n",
       "Albania                                                            NaN                        \n",
       "Algeria                                                            NaN                        \n",
       "Angola                                                             NaN                        \n",
       "Antigua and Barbuda                                                NaN                        \n",
       "\n",
       "IndicatorName        Expenditure on secondary as % of government expenditure on education (%)  \\\n",
       "CountryName                                                                                     \n",
       "Afghanistan                                                        NaN                          \n",
       "Albania                                                            NaN                          \n",
       "Algeria                                                            NaN                          \n",
       "Angola                                                             NaN                          \n",
       "Antigua and Barbuda                                                NaN                          \n",
       "\n",
       "IndicatorName        Expenditure on tertiary as % of government expenditure on education (%)  \\\n",
       "CountryName                                                                                    \n",
       "Afghanistan                                                        NaN                         \n",
       "Albania                                                            NaN                         \n",
       "Algeria                                                            NaN                         \n",
       "Angola                                                             NaN                         \n",
       "Antigua and Barbuda                                                NaN                         \n",
       "\n",
       "IndicatorName        General government final consumption expenditure (% of GDP)  \\\n",
       "CountryName                                                                        \n",
       "Afghanistan                                                  12.765214             \n",
       "Albania                                                      11.195688             \n",
       "Algeria                                                      19.433061             \n",
       "Angola                                                             NaN             \n",
       "Antigua and Barbuda                                          17.110780             \n",
       "\n",
       "IndicatorName        General government final consumption expenditure (annual % growth)  \\\n",
       "CountryName                                                                               \n",
       "Afghanistan                                                        NaN                    \n",
       "Albania                                                       8.731858                    \n",
       "Algeria                                                       1.100000                    \n",
       "Angola                                                             NaN                    \n",
       "Antigua and Barbuda                                                NaN                    \n",
       "\n",
       "IndicatorName        General government final consumption expenditure (constant 2005 US$)  \\\n",
       "CountryName                                                                                 \n",
       "Afghanistan                                                        NaN                      \n",
       "Albania                                                   1.158635e+09                      \n",
       "Algeria                                                   3.439873e+10                      \n",
       "Angola                                                             NaN                      \n",
       "Antigua and Barbuda                                                NaN                      \n",
       "\n",
       "IndicatorName        General government final consumption expenditure (constant LCU)  \\\n",
       "CountryName                                                                            \n",
       "Afghanistan                                                        NaN                 \n",
       "Albania                                                   4.938514e+10                 \n",
       "Algeria                                                   1.445653e+11                 \n",
       "Angola                                                             NaN                 \n",
       "Antigua and Barbuda                                                NaN                 \n",
       "\n",
       "IndicatorName        General government final consumption expenditure (current LCU)  \\\n",
       "CountryName                                                                           \n",
       "Afghanistan                                               1.469042e+11                \n",
       "Albania                                                   1.560164e+11                \n",
       "Algeria                                                   3.343479e+12                \n",
       "Angola                                                             NaN                \n",
       "Antigua and Barbuda                                       5.640800e+08                \n",
       "\n",
       "IndicatorName        General government final consumption expenditure (current US$)  \\\n",
       "CountryName                                                                           \n",
       "Afghanistan                                               2.557921e+09                \n",
       "Albania                                                   1.479120e+09                \n",
       "Algeria                                                   4.149318e+10                \n",
       "Angola                                                             NaN                \n",
       "Antigua and Barbuda                                       2.089185e+08                \n",
       "\n",
       "IndicatorName        Time spent dealing with the requirements of government regulations (% of senior management time)  \n",
       "CountryName                                                                                                            \n",
       "Afghanistan                                                        9.8                                                 \n",
       "Albania                                                            NaN                                                 \n",
       "Algeria                                                            NaN                                                 \n",
       "Angola                                                             NaN                                                 \n",
       "Antigua and Barbuda                                                NaN                                                 "
      ]
     },
     "execution_count": 186,
     "metadata": {},
     "output_type": "execute_result"
    }
   ],
   "source": [
    "newData = gov_data.pivot_table(values=\"Value\", index=[\"CountryName\"], columns=\"IndicatorName\")\n",
    "newData.head()"
   ]
  },
  {
   "cell_type": "code",
   "execution_count": 181,
   "metadata": {
    "collapsed": true
   },
   "outputs": [],
   "source": [
    "test = newData[\"General government final consumption expenditure (current LCU)\"]\n",
    "test2 = pd.DataFrame({ \"General government final consumption expenditure (current LCU)\":test.values}, index=test.index)"
   ]
  },
  {
   "cell_type": "code",
   "execution_count": 179,
   "metadata": {
    "collapsed": true
   },
   "outputs": [],
   "source": [
    "test3 = pd.merge(area_2014, test2, left_on=\"CountryName\", right_index=True, how=\"left\", sort=False)"
   ]
  },
  {
   "cell_type": "code",
   "execution_count": 180,
   "metadata": {},
   "outputs": [
    {
     "data": {
      "text/plain": [
       "<seaborn.axisgrid.JointGrid at 0xa18c93ac>"
      ]
     },
     "execution_count": 180,
     "metadata": {},
     "output_type": "execute_result"
    },
    {
     "data": {
      "image/png": "[encoded data removed]",
      "text/plain": [
       "<matplotlib.figure.Figure at 0xa18c99ec>"
      ]
     },
     "metadata": {},
     "output_type": "display_data"
    }
   ],
   "source": [
    "sns.jointplot(x=\"Area in 2014\", y=\"General government final consumption expenditure (current LCU)\", data=test3)"
   ]
  },
  {
   "cell_type": "code",
   "execution_count": 201,
   "metadata": {
    "collapsed": true
   },
   "outputs": [],
   "source": [
    "test4 = pd.merge(area_2014, newData, left_on=\"CountryName\", right_index=True, how=\"left\", sort=False)"
   ]
  },
  {
   "cell_type": "code",
   "execution_count": 202,
   "metadata": {},
   "outputs": [
    {
     "data": {
      "text/plain": [
       "<seaborn.axisgrid.PairGrid at 0xa0bcb28c>"
      ]
     },
     "execution_count": 202,
     "metadata": {},
     "output_type": "execute_result"
    },
    {
     "data": {
      "image/png": "[encoded data removed]",
      "text/plain": [
       "<matplotlib.figure.Figure at 0xa0c047ac>"
      ]
     },
     "metadata": {},
     "output_type": "display_data"
    }
   ],
   "source": []
  },
  {
   "cell_type": "code",
   "execution_count": null,
   "metadata": {
    "collapsed": true
   },
   "outputs": [],
   "source": []
  }
 ],
 "metadata": {
  "kernelspec": {
   "display_name": "Python 3",
   "language": "python",
   "name": "python3"
  },
  "language_info": {
   "codemirror_mode": {
    "name": "ipython",
    "version": 3
   },
   "file_extension": ".py",
   "mimetype": "text/x-python",
   "name": "python",
   "nbconvert_exporter": "python",
   "pygments_lexer": "ipython3",
   "version": "3.6.3"
  }
 },
 "nbformat": 4,
 "nbformat_minor": 2
}
